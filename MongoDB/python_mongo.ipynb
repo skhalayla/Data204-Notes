{
 "cells": [
  {
   "cell_type": "code",
   "execution_count": 22,
   "metadata": {},
   "outputs": [],
   "source": [
    "import pymongo"
   ]
  },
  {
   "cell_type": "code",
   "execution_count": 23,
   "metadata": {},
   "outputs": [
    {
     "name": "stdout",
     "output_type": "stream",
     "text": [
      "Database(MongoClient(host=['localhost:27017'], document_class=dict, tz_aware=False, connect=True), 'starwars')\n"
     ]
    }
   ],
   "source": [
    "client = pymongo.MongoClient()\n",
    "db = client['starwars']\n",
    "\n",
    "print(db)"
   ]
  },
  {
   "cell_type": "code",
   "execution_count": 24,
   "metadata": {},
   "outputs": [
    {
     "name": "stdout",
     "output_type": "stream",
     "text": [
      "<pymongo.cursor.Cursor object at 0x0000027F13D956D0>\n"
     ]
    }
   ],
   "source": [
    "characters = db.characters.find({})\n",
    "\n",
    "print(characters)"
   ]
  },
  {
   "cell_type": "code",
   "execution_count": 25,
   "metadata": {},
   "outputs": [
    {
     "name": "stdout",
     "output_type": "stream",
     "text": [
      "{'name': 'Ackbar'}\n",
      "{'name': 'Adi Gallia'}\n",
      "{'name': 'Anakin Skywalker'}\n",
      "{'name': 'Arvel Crynyd'}\n",
      "{'name': 'Ayla Secura'}\n",
      "{'name': 'BB8'}\n",
      "{'name': 'Bail Prestor Organa'}\n",
      "{'name': 'Barriss Offee'}\n",
      "{'name': 'Ben Quadinaros'}\n",
      "{'name': 'Beru Whitesun lars'}\n",
      "{'name': 'Bib Fortuna'}\n",
      "{'name': 'Biggs Darklighter'}\n",
      "{'name': 'Boba Fett'}\n",
      "{'name': 'Bossk'}\n",
      "{'name': 'C-3PO'}\n",
      "{'name': 'Captain Phasma'}\n",
      "{'name': 'Chewbacca'}\n",
      "{'name': 'Cliegg Lars'}\n",
      "{'name': 'Cordé'}\n",
      "{'name': 'Darth Maul'}\n",
      "{'name': 'Darth Vader'}\n",
      "{'name': 'Dexter Jettster'}\n",
      "{'name': 'Dooku'}\n",
      "{'name': 'Dormé'}\n",
      "{'name': 'Dud Bolt'}\n",
      "{'name': 'Eeth Koth'}\n",
      "{'name': 'Finis Valorum'}\n",
      "{'name': 'Finn'}\n",
      "{'name': 'Gasgano'}\n",
      "{'name': 'Greedo'}\n",
      "{'name': 'Gregar Typho'}\n",
      "{'name': 'Grievous'}\n",
      "{'name': 'Han Solo'}\n",
      "{'name': 'IG-88'}\n",
      "{'name': 'Jabba Desilijic Tiure'}\n",
      "{'name': 'Jango Fett'}\n",
      "{'name': 'Jar Jar Binks'}\n",
      "{'name': 'Jek Tono Porkins'}\n",
      "{'name': 'Jocasta Nu'}\n",
      "{'name': 'Ki-Adi-Mundi'}\n",
      "{'name': 'Kit Fisto'}\n",
      "{'name': 'Lama Su'}\n",
      "{'name': 'Lando Calrissian'}\n",
      "{'name': 'Leia Organa'}\n",
      "{'name': 'Lobot'}\n",
      "{'name': 'Luke Skywalker'}\n",
      "{'name': 'Luminara Unduli'}\n",
      "{'name': 'Mace Windu'}\n",
      "{'name': 'Mas Amedda'}\n",
      "{'name': 'Mon Mothma'}\n",
      "{'name': 'Nien Nunb'}\n",
      "{'name': 'Nute Gunray'}\n",
      "{'name': 'Obi-Wan Kenobi'}\n",
      "{'name': 'Owen Lars'}\n",
      "{'name': 'Padmé Amidala'}\n",
      "{'name': 'Palpatine'}\n",
      "{'name': 'Plo Koon'}\n",
      "{'name': 'Poe Dameron'}\n",
      "{'name': 'Poggle the Lesser'}\n",
      "{'name': 'Quarsh Panaka'}\n",
      "{'name': 'Qui-Gon Jinn'}\n",
      "{'name': 'R2-D2'}\n",
      "{'name': 'R4-P17'}\n",
      "{'name': 'R5-D4'}\n",
      "{'name': 'Ratts Tyerell'}\n",
      "{'name': 'Raymus Antilles'}\n",
      "{'name': 'Rey'}\n",
      "{'name': 'Ric Olié'}\n",
      "{'name': 'Roos Tarpals'}\n",
      "{'name': 'Rugor Nass'}\n",
      "{'name': 'Saesee Tiin'}\n",
      "{'name': 'San Hill'}\n",
      "{'name': 'Sebulba'}\n",
      "{'name': 'Shaak Ti'}\n",
      "{'name': 'Shmi Skywalker'}\n",
      "{'name': 'Sly Moore'}\n",
      "{'name': 'Tarfful'}\n",
      "{'name': 'Taun We'}\n",
      "{'name': 'Tion Medon'}\n",
      "{'name': 'Wat Tambor'}\n",
      "{'name': 'Watto'}\n",
      "{'name': 'Wedge Antilles'}\n",
      "{'name': 'Wicket Systri Warrick'}\n",
      "{'name': 'Wilhuff Tarkin'}\n",
      "{'name': 'Yarael Poof'}\n",
      "{'name': 'Yoda'}\n",
      "{'name': 'Zam Wesell'}\n"
     ]
    }
   ],
   "source": [
    "character_names = db.characters.find({},{'name':1,'_id':0})\n",
    "\n",
    "for person in character_names:\n",
    "    print(person)"
   ]
  },
  {
   "cell_type": "code",
   "execution_count": 26,
   "metadata": {},
   "outputs": [
    {
     "name": "stdout",
     "output_type": "stream",
     "text": [
      "{'_id': ObjectId('63e4e001558a69b2056e9a12'), 'name': 'Luke Skywalker', 'height': '172', 'mass': '77', 'hair_color': 'blond', 'skin_color': 'fair', 'eye_color': 'blue', 'birth_year': '19BBY', 'gender': 'male', 'homeworld': {'name': 'Tatooine', 'rotation_period': '23', 'orbital_period': '304', 'diameter': '10465', 'climate': 'arid', 'gravity': '1 standard', 'terrain': 'desert', 'surface_water': '1', 'population': '200000'}, 'films': [{'title': 'The Empire Strikes Back', 'episode_id': 5, 'opening_crawl': 'It is a dark time for the\\r\\nRebellion. Although the Death\\r\\nStar has been destroyed,\\r\\nImperial troops have driven the\\r\\nRebel forces from their hidden\\r\\nbase and pursued them across\\r\\nthe galaxy.\\r\\n\\r\\nEvading the dreaded Imperial\\r\\nStarfleet, a group of freedom\\r\\nfighters led by Luke Skywalker\\r\\nhas established a new secret\\r\\nbase on the remote ice world\\r\\nof Hoth.\\r\\n\\r\\nThe evil lord Darth Vader,\\r\\nobsessed with finding young\\r\\nSkywalker, has dispatched\\r\\nthousands of remote probes into\\r\\nthe far reaches of space....', 'director': 'Irvin Kershner', 'producer': 'Gary Kurtz, Rick McCallum', 'release_date': '1980-05-17'}, {'title': 'Revenge of the Sith', 'episode_id': 3, 'opening_crawl': 'War! The Republic is crumbling\\r\\nunder attacks by the ruthless\\r\\nSith Lord, Count Dooku.\\r\\nThere are heroes on both sides.\\r\\nEvil is everywhere.\\r\\n\\r\\nIn a stunning move, the\\r\\nfiendish droid leader, General\\r\\nGrievous, has swept into the\\r\\nRepublic capital and kidnapped\\r\\nChancellor Palpatine, leader of\\r\\nthe Galactic Senate.\\r\\n\\r\\nAs the Separatist Droid Army\\r\\nattempts to flee the besieged\\r\\ncapital with their valuable\\r\\nhostage, two Jedi Knights lead a\\r\\ndesperate mission to rescue the\\r\\ncaptive Chancellor....', 'director': 'George Lucas', 'producer': 'Rick McCallum', 'release_date': '2005-05-19'}, {'title': 'Return of the Jedi', 'episode_id': 6, 'opening_crawl': 'Luke Skywalker has returned to\\r\\nhis home planet of Tatooine in\\r\\nan attempt to rescue his\\r\\nfriend Han Solo from the\\r\\nclutches of the vile gangster\\r\\nJabba the Hutt.\\r\\n\\r\\nLittle does Luke know that the\\r\\nGALACTIC EMPIRE has secretly\\r\\nbegun construction on a new\\r\\narmored space station even\\r\\nmore powerful than the first\\r\\ndreaded Death Star.\\r\\n\\r\\nWhen completed, this ultimate\\r\\nweapon will spell certain doom\\r\\nfor the small band of rebels\\r\\nstruggling to restore freedom\\r\\nto the galaxy...', 'director': 'Richard Marquand', 'producer': 'Howard G. Kazanjian, George Lucas, Rick McCallum', 'release_date': '1983-05-25'}, {'title': 'A New Hope', 'episode_id': 4, 'opening_crawl': \"It is a period of civil war.\\r\\nRebel spaceships, striking\\r\\nfrom a hidden base, have won\\r\\ntheir first victory against\\r\\nthe evil Galactic Empire.\\r\\n\\r\\nDuring the battle, Rebel\\r\\nspies managed to steal secret\\r\\nplans to the Empire's\\r\\nultimate weapon, the DEATH\\r\\nSTAR, an armored space\\r\\nstation with enough power\\r\\nto destroy an entire planet.\\r\\n\\r\\nPursued by the Empire's\\r\\nsinister agents, Princess\\r\\nLeia races home aboard her\\r\\nstarship, custodian of the\\r\\nstolen plans that can save her\\r\\npeople and restore\\r\\nfreedom to the galaxy....\", 'director': 'George Lucas', 'producer': 'Gary Kurtz, Rick McCallum', 'release_date': '1977-05-25'}, {'title': 'The Force Awakens', 'episode_id': 7, 'opening_crawl': \"Luke Skywalker has vanished.\\r\\nIn his absence, the sinister\\r\\nFIRST ORDER has risen from\\r\\nthe ashes of the Empire\\r\\nand will not rest until\\r\\nSkywalker, the last Jedi,\\r\\nhas been destroyed.\\r\\n \\r\\nWith the support of the\\r\\nREPUBLIC, General Leia Organa\\r\\nleads a brave RESISTANCE.\\r\\nShe is desperate to find her\\r\\nbrother Luke and gain his\\r\\nhelp in restoring peace and\\r\\njustice to the galaxy.\\r\\n \\r\\nLeia has sent her most daring\\r\\npilot on a secret mission\\r\\nto Jakku, where an old ally\\r\\nhas discovered a clue to\\r\\nLuke's whereabouts....\", 'director': 'J. J. Abrams', 'producer': 'Kathleen Kennedy, J. J. Abrams, Bryan Burk', 'release_date': '2015-12-11'}], 'species': {'name': 'Human', 'classification': 'mammal', 'designation': 'sentient', 'average_height': '180', 'skin_colors': 'caucasian, black, asian, hispanic', 'hair_colors': 'blonde, brown, black, red', 'eye_colors': 'brown, blue, green, hazel, grey, amber', 'average_lifespan': '120', 'language': 'Galactic Basic'}}\n"
     ]
    }
   ],
   "source": [
    "luke = db.characters.find_one({'name':'Luke Skywalker'})\n",
    "print(luke)"
   ]
  },
  {
   "cell_type": "code",
   "execution_count": 27,
   "metadata": {},
   "outputs": [
    {
     "name": "stdout",
     "output_type": "stream",
     "text": [
      "{'name': 'BB8', 'species': {'name': 'Droid'}}\n",
      "{'name': 'C-3PO', 'species': {'name': 'Droid'}}\n",
      "{'name': 'IG-88', 'species': {'name': 'Droid'}}\n",
      "{'name': 'R2-D2', 'species': {'name': 'Droid'}}\n",
      "{'name': 'R5-D4', 'species': {'name': 'Droid'}}\n"
     ]
    }
   ],
   "source": [
    "character_names = db.characters.find({'species.name':'Droid'},{'name':1,'species.name':1,'_id':0})\n",
    "\n",
    "for person in character_names:\n",
    "    print(person)"
   ]
  },
  {
   "cell_type": "code",
   "execution_count": 28,
   "metadata": {},
   "outputs": [
    {
     "data": {
      "text/plain": [
       "'Exercise:\\n1. Find the height of Darth Vader, only return results for the name and the height.\\n2. Find all characters with yellow eyes, only return results for the names of the characters.\\n3. Find male characters. Limit your results to only show the first3.\\n4. Find the names of all the humans whose homeworld is Alderaan.'"
      ]
     },
     "execution_count": 28,
     "metadata": {},
     "output_type": "execute_result"
    }
   ],
   "source": [
    "'''Exercise:\n",
    "1. Find the height of Darth Vader, only return results for the name and the height.\n",
    "2. Find all characters with yellow eyes, only return results for the names of the characters.\n",
    "3. Find male characters. Limit your results to only show the first3.\n",
    "4. Find the names of all the humans whose homeworld is Alderaan.'''"
   ]
  },
  {
   "cell_type": "code",
   "execution_count": 29,
   "metadata": {},
   "outputs": [
    {
     "name": "stdout",
     "output_type": "stream",
     "text": [
      "{'name': 'Darth Vader', 'height': '202'}\n"
     ]
    }
   ],
   "source": [
    "darth=db.characters.find({'name':'Darth Vader'},{'name':1,'height':1,'_id':0})\n",
    "\n",
    "for person in darth:\n",
    "    print(person)"
   ]
  },
  {
   "cell_type": "code",
   "execution_count": 30,
   "metadata": {},
   "outputs": [
    {
     "name": "stdout",
     "output_type": "stream",
     "text": [
      "{'name': 'C-3PO'}\n",
      "{'name': 'Darth Maul'}\n",
      "{'name': 'Darth Vader'}\n",
      "{'name': 'Dexter Jettster'}\n",
      "{'name': 'Dud Bolt'}\n",
      "{'name': 'Ki-Adi-Mundi'}\n",
      "{'name': 'Palpatine'}\n",
      "{'name': 'Poggle the Lesser'}\n",
      "{'name': 'Watto'}\n",
      "{'name': 'Yarael Poof'}\n",
      "{'name': 'Zam Wesell'}\n"
     ]
    }
   ],
   "source": [
    "color=db.characters.find({'eye_color':'yellow'},{'name':1,'_id':0})\n",
    "\n",
    "for person in color:\n",
    "    print(person)"
   ]
  },
  {
   "cell_type": "code",
   "execution_count": 31,
   "metadata": {},
   "outputs": [
    {
     "name": "stdout",
     "output_type": "stream",
     "text": [
      "{'name': 'Ackbar'}\n",
      "{'name': 'Anakin Skywalker'}\n",
      "{'name': 'Arvel Crynyd'}\n"
     ]
    }
   ],
   "source": [
    "male_char=db.characters.find({'gender':'male'},{'name':1,'_id':0}).limit(3)\n",
    "\n",
    "for person in male_char:\n",
    "    print(person)"
   ]
  },
  {
   "cell_type": "code",
   "execution_count": 32,
   "metadata": {},
   "outputs": [
    {
     "name": "stdout",
     "output_type": "stream",
     "text": [
      "{'name': 'Bail Prestor Organa'}\n",
      "{'name': 'Leia Organa'}\n",
      "{'name': 'Raymus Antilles'}\n"
     ]
    }
   ],
   "source": [
    "aldhums=db.characters.find({'homeworld.name':'Alderaan','species.name':'Human'},{'name':1,'_id':0})\n",
    "\n",
    "for person in aldhums:\n",
    "    print(person)"
   ]
  },
  {
   "cell_type": "code",
   "execution_count": 34,
   "metadata": {},
   "outputs": [
    {
     "name": "stdout",
     "output_type": "stream",
     "text": [
      "<pymongo.cursor.Cursor object at 0x0000027F13D956D0>\n"
     ]
    }
   ],
   "source": [
    "all_characters=db.characters.find({},{'height':1,'mass':1,'_id':0})\n",
    "\n",
    "#average height for female characters\n",
    "#get female heights\n",
    "#group everything together\n",
    "#avg to find average\n",
    "\n",
    "avg_f_height=db.characters.aggregate([{'$match':{'gender':'female'}},{'$group':{'_id':'$gender','avg_height':{'$avg':'$height'}}}])\n",
    "\n",
    "for character in avg_f_height:\n",
    "    print(characters)"
   ]
  },
  {
   "cell_type": "code",
   "execution_count": 46,
   "metadata": {},
   "outputs": [
    {
     "name": "stdout",
     "output_type": "stream",
     "text": [
      "{'_id': 'female', 'avg_height': None}\n",
      "{'_id': 'female', 'avg_height': None}\n",
      "{'_id': 'female', 'avg_height': None}\n",
      "{'_id': 'female', 'avg_height': None}\n",
      "{'_id': 'female', 'avg_height': None}\n",
      "{'_id': 'female', 'avg_height': None}\n",
      "{'_id': 'female', 'avg_height': None}\n",
      "{'_id': 'female', 'avg_height': None}\n",
      "{'_id': 'female', 'avg_height': None}\n",
      "{'_id': 'female', 'avg_height': None}\n",
      "{'_id': 'female', 'avg_height': None}\n",
      "{'_id': 'female', 'avg_height': None}\n",
      "{'_id': 'female', 'avg_height': None}\n",
      "{'_id': 'female', 'avg_height': None}\n",
      "{'_id': 'female', 'avg_height': None}\n",
      "{'_id': 'female', 'avg_height': None}\n",
      "{'_id': 'female', 'avg_height': None}\n",
      "{'_id': 'female', 'avg_height': None}\n",
      "{'_id': 'female', 'avg_height': None}\n",
      "{'_id': 'female', 'avg_height': None}\n",
      "{'_id': 'female', 'avg_height': None}\n",
      "{'_id': 'female', 'avg_height': None}\n",
      "{'_id': 'female', 'avg_height': None}\n",
      "{'_id': 'female', 'avg_height': None}\n",
      "{'_id': 'female', 'avg_height': None}\n",
      "{'_id': 'female', 'avg_height': None}\n",
      "{'_id': 'female', 'avg_height': None}\n",
      "{'_id': 'female', 'avg_height': None}\n",
      "{'_id': 'female', 'avg_height': None}\n",
      "{'_id': 'female', 'avg_height': None}\n",
      "{'_id': 'female', 'avg_height': None}\n",
      "{'_id': 'female', 'avg_height': None}\n",
      "{'_id': 'female', 'avg_height': None}\n",
      "{'_id': 'female', 'avg_height': None}\n",
      "{'_id': 'female', 'avg_height': None}\n",
      "{'_id': 'female', 'avg_height': None}\n",
      "{'_id': 'female', 'avg_height': None}\n",
      "{'_id': 'female', 'avg_height': None}\n",
      "{'_id': 'female', 'avg_height': None}\n",
      "{'_id': 'female', 'avg_height': None}\n",
      "{'_id': 'female', 'avg_height': None}\n",
      "{'_id': 'female', 'avg_height': None}\n",
      "{'_id': 'female', 'avg_height': None}\n",
      "{'_id': 'female', 'avg_height': None}\n",
      "{'_id': 'female', 'avg_height': None}\n",
      "{'_id': 'female', 'avg_height': None}\n",
      "{'_id': 'female', 'avg_height': None}\n",
      "{'_id': 'female', 'avg_height': None}\n",
      "{'_id': 'female', 'avg_height': None}\n",
      "{'_id': 'female', 'avg_height': None}\n",
      "{'_id': 'female', 'avg_height': None}\n",
      "{'_id': 'female', 'avg_height': None}\n",
      "{'_id': 'female', 'avg_height': None}\n",
      "{'_id': 'female', 'avg_height': None}\n",
      "{'_id': 'female', 'avg_height': None}\n",
      "{'_id': 'female', 'avg_height': None}\n",
      "{'_id': 'female', 'avg_height': None}\n",
      "{'_id': 'female', 'avg_height': None}\n",
      "{'_id': 'female', 'avg_height': None}\n",
      "{'_id': 'female', 'avg_height': None}\n",
      "{'_id': 'female', 'avg_height': None}\n",
      "{'_id': 'female', 'avg_height': None}\n",
      "{'_id': 'female', 'avg_height': None}\n",
      "{'_id': 'female', 'avg_height': None}\n",
      "{'_id': 'female', 'avg_height': None}\n",
      "{'_id': 'female', 'avg_height': None}\n",
      "{'_id': 'female', 'avg_height': None}\n",
      "{'_id': 'female', 'avg_height': None}\n",
      "{'_id': 'female', 'avg_height': None}\n",
      "{'_id': 'female', 'avg_height': None}\n",
      "{'_id': 'female', 'avg_height': None}\n",
      "{'_id': 'female', 'avg_height': None}\n",
      "{'_id': 'female', 'avg_height': None}\n",
      "{'_id': 'female', 'avg_height': None}\n",
      "{'_id': 'female', 'avg_height': None}\n",
      "{'_id': 'female', 'avg_height': None}\n",
      "{'_id': 'female', 'avg_height': None}\n",
      "{'_id': 'female', 'avg_height': None}\n",
      "{'_id': 'female', 'avg_height': None}\n",
      "{'_id': 'female', 'avg_height': None}\n",
      "{'_id': 'female', 'avg_height': None}\n",
      "{'_id': 'female', 'avg_height': None}\n",
      "{'_id': 'female', 'avg_height': None}\n",
      "{'_id': 'female', 'avg_height': None}\n",
      "{'_id': 'female', 'avg_height': None}\n",
      "{'_id': 'female', 'avg_height': None}\n",
      "{'_id': 'female', 'avg_height': None}\n"
     ]
    }
   ],
   "source": [
    "#removing unkown heights\n",
    "# db.characters.update_many({'height':'unknown'},{'$unset':{'height':''}})\n",
    "#removing unknown mass\n",
    "# db.characters.update_many({'mass':'unknown'},{'$unset':{'mass':''}})\n",
    "#set height field to int version of original\n",
    "# db.characters.update_many({},[{'$set':{'height':{'$toInt':'$height'}}}])\n",
    "#sort out the comma problem\n",
    "# db.characters.update_one({'mass':'1,358'},{'$set':{'mass':'1358'}})\n",
    "#convert mass to double\n",
    "# db.characters.update_many({},[{'$set':{'mass':{'$toDouble':'$mass'}}}])\n",
    "\n",
    "all_characters = db.characters.find({},{'height':1,'mass':1,'_id':0})\n",
    "for characters in all_characters:\n",
    "    print(character)"
   ]
  },
  {
   "cell_type": "code",
   "execution_count": 50,
   "metadata": {},
   "outputs": [
    {
     "name": "stdout",
     "output_type": "stream",
     "text": [
      "{'_id': 'female', 'avg_height': 165.47058823529412, 'avg_mass': 54.02}\n"
     ]
    }
   ],
   "source": [
    "avg_female_height=db.characters.aggregate([\n",
    "    {'$match':{'gender':'female'}},\n",
    "    {'$group':\n",
    "    {'_id':'$gender',\n",
    "    'avg_height':{'$avg':'$height'},\n",
    "    'avg_mass':{'$avg':'$mass'}\n",
    "    }}\n",
    "])\n",
    "\n",
    "for characters in avg_female_height:\n",
    "    print(characters)"
   ]
  },
  {
   "cell_type": "code",
   "execution_count": null,
   "metadata": {},
   "outputs": [],
   "source": []
  }
 ],
 "metadata": {
  "kernelspec": {
   "display_name": ".the_virtual_environment",
   "language": "python",
   "name": "python3"
  },
  "language_info": {
   "codemirror_mode": {
    "name": "ipython",
    "version": 3
   },
   "file_extension": ".py",
   "mimetype": "text/x-python",
   "name": "python",
   "nbconvert_exporter": "python",
   "pygments_lexer": "ipython3",
   "version": "3.11.1"
  },
  "orig_nbformat": 4,
  "vscode": {
   "interpreter": {
    "hash": "a4d707ad26e42060784dcc7bbb39639caa2f89e90b57d80aba0d3e3f88cf550d"
   }
  }
 },
 "nbformat": 4,
 "nbformat_minor": 2
}
