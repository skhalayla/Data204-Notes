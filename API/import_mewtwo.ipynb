{
 "cells": [
  {
   "cell_type": "code",
   "execution_count": 5,
   "metadata": {},
   "outputs": [],
   "source": [
    "import requests\n",
    "import json"
   ]
  },
  {
   "cell_type": "code",
   "execution_count": 6,
   "metadata": {},
   "outputs": [
    {
     "name": "stdout",
     "output_type": "stream",
     "text": [
      "<Response [200]>\n"
     ]
    }
   ],
   "source": [
    "mewtwo = requests.get('https://pokeapi.co/api/v2/pokemon/mewtwo')\n",
    "print(mewtwo)"
   ]
  },
  {
   "cell_type": "code",
   "execution_count": 14,
   "metadata": {},
   "outputs": [
    {
     "name": "stdout",
     "output_type": "stream",
     "text": [
      "unnerve\n"
     ]
    }
   ],
   "source": [
    "mewtwo_content = mewtwo.json()\n",
    "print(mewtwo_content['abilities'][1]['ability']['name'])"
   ]
  }
 ],
 "metadata": {
  "kernelspec": {
   "display_name": ".the_virtual_environment",
   "language": "python",
   "name": "python3"
  },
  "language_info": {
   "codemirror_mode": {
    "name": "ipython",
    "version": 3
   },
   "file_extension": ".py",
   "mimetype": "text/x-python",
   "name": "python",
   "nbconvert_exporter": "python",
   "pygments_lexer": "ipython3",
   "version": "3.11.1 (tags/v3.11.1:a7a450f, Dec  6 2022, 19:58:39) [MSC v.1934 64 bit (AMD64)]"
  },
  "orig_nbformat": 4,
  "vscode": {
   "interpreter": {
    "hash": "a4d707ad26e42060784dcc7bbb39639caa2f89e90b57d80aba0d3e3f88cf550d"
   }
  }
 },
 "nbformat": 4,
 "nbformat_minor": 2
}
